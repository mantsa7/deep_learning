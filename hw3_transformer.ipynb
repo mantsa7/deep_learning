{
 "cells": [
  {
   "cell_type": "markdown",
   "metadata": {
    "id": "Sl5XOm9YSbpi"
   },
   "source": [
    "# Трансформеры\n",
    "В этом домашнем задании мы рассмотим использование трансформеров в библиотеке PyTorch. Рассмотрим задачу языкового моделирования. Попробуем генерировать текст нейронной сетью. "
   ]
  },
  {
   "cell_type": "markdown",
   "metadata": {
    "id": "ysVIMbXiSbpq"
   },
   "source": [
    "Ссылка на данные - https://drive.google.com/drive/folders/1x1A4ElliUGBPnHladGMwPxPuGxI8Vnpu?usp=sharing"
   ]
  },
  {
   "cell_type": "code",
   "execution_count": 21,
   "metadata": {
    "id": "RGDvH8mASbpr"
   },
   "outputs": [],
   "source": [
    "# хороший тон, импортировать все необходимые библиотеки в одной ячейке ;)\n",
    "\n",
    "import numpy as np\n",
    "import time\n",
    "\n",
    "from sklearn.model_selection import train_test_split\n",
    "import math\n",
    "from typing import Tuple\n",
    "\n",
    "import torch\n",
    "from torch import nn, Tensor\n",
    "import torch.nn.functional as F\n",
    "from torch.nn import TransformerEncoder, TransformerEncoderLayer\n",
    "from torch.utils.data import dataset\n",
    "from torch.utils.data import DataLoader"
   ]
  },
  {
   "cell_type": "code",
   "execution_count": 2,
   "metadata": {
    "colab": {
     "base_uri": "https://localhost:8080/"
    },
    "id": "ijOVY5-sS1c_",
    "outputId": "646960b6-0c5d-41c7-8d3f-572f5ad9975d"
   },
   "outputs": [
    {
     "name": "stdout",
     "output_type": "stream",
     "text": [
      "Mounted at /content/drive\n"
     ]
    }
   ],
   "source": [
    "from google.colab import drive\n",
    "drive.mount('/content/drive')"
   ]
  },
  {
   "cell_type": "markdown",
   "metadata": {
    "id": "RpSChRYkSbpu"
   },
   "source": [
    "Что такое языковое моделирование? Это предсказание вероятности следующего токена (слова или буквы) на основе предыдущих токенов. Математически это можно описать так:\n",
    "\n",
    "$$P(x_i|x_1, x_2 , ... , x_{i-1})$$ \n",
    "\n",
    "Последовательность $$ x_1, x_2, ... x_{i-1} $$ называют контекстом."
   ]
  },
  {
   "cell_type": "markdown",
   "metadata": {
    "id": "mUIR4IeMSbpv"
   },
   "source": [
    "## Задание 0 (0 баллов, но сделать нужно)\n",
    "Проставьте знаки неравенств, исходя из вашего опыта:\n",
    "$$ P(раму | мама, мыла) * P(папу | мама, мыла) $$\n",
    "$$ P(столу | дорога, ложка, к) * P(обеду | дорога, ложка, к) $$\n",
    "$$ P(Евпатий | меня, зовут) * P(Ваня | меня, зовут) $$\n",
    "$$ P(журналы | я, часто ,читаю) * P(комиксы | я, часто ,читаю) $$\n",
    "Попробуйте объяснить выбор для каждого из примеров."
   ]
  },
  {
   "cell_type": "markdown",
   "metadata": {
    "id": "gIl1aCQbSbpw"
   },
   "source": [
    "Ответ : $$ P(раму | мама, мыла) > P(папу | мама, мыла) $$\n",
    "$$ P(столу | дорога, ложка, к) < P(обеду | дорога, ложка, к) $$\n",
    "$$ P(Евпатий | меня, зовут) < P(Ваня | меня, зовут) $$\n",
    "$$ P(журналы | я, часто ,читаю) > P(комиксы | я, часто ,читаю) $$\n",
    "\n",
    "Первое и второе - пословицы или устоявшиеся выражения - их мы часто слышим в речи. Третье сделано из соображений, что Ваня более распространённое имя, соответственно, встречается чаще в данном контексте. Самое спорное - четвертое, тут выбор сделан в пользу журналов исходя из моего личное опыта, где я чаще слышу, что люди читают журналы, а не комиксы.\n"
   ]
  },
  {
   "cell_type": "markdown",
   "metadata": {
    "id": "db1A56G-Sbpx"
   },
   "source": [
    "Если для некоторых из примеров проставить знаки достаточно просто, то на некоторые сложно сказать, какой овтет верный. Мы принимаем решение для данного задания исходя их опыта использования русского языка. Мы много читали на русском и слушали огромное количество русской речи. Обучение языковых моделей происходит по схожему принципу. \n",
    "\n",
    "Мы хотим показать модели столько текстов, сколько можем и надеемся, что она наберется достаточно опыта, чтобы расставлять такие знаки неравества максимально схоже с человеком."
   ]
  },
  {
   "cell_type": "markdown",
   "metadata": {
    "id": "PxMMnWz0Sbpz"
   },
   "source": [
    "## Задание 1 (0.5 балла)\n",
    "Мы будем обучать языковую модель для предсказания следущей буквы. Такие языковые модели применяются в распозновании речи, так как предоставляют дополнительную информацию акустической модели при выборе следующего символа. Для начала, откройте файл с данными, посмотрите, какие символы входят в тексты, сколько их. Уберите из текста все символы переноса на новую строку и табуляцию."
   ]
  },
  {
   "cell_type": "code",
   "execution_count": 3,
   "metadata": {
    "colab": {
     "base_uri": "https://localhost:8080/"
    },
    "id": "vnGV_shlSbp4",
    "outputId": "ed5647a8-d8ad-48bf-b2d3-24e685d4e8d0",
    "scrolled": true
   },
   "outputs": [
    {
     "data": {
      "text/plain": [
       "700000"
      ]
     },
     "execution_count": 3,
     "metadata": {},
     "output_type": "execute_result"
    }
   ],
   "source": [
    "path = '/content/drive/MyDrive/Копия small_corp_for_test.txt'\n",
    "file = open(path, 'r')\n",
    "data = file.readlines()\n",
    "file.close()\n",
    "len(data)"
   ]
  },
  {
   "cell_type": "code",
   "execution_count": 4,
   "metadata": {
    "colab": {
     "base_uri": "https://localhost:8080/"
    },
    "id": "qPkUe-2If0Jp",
    "outputId": "2ccb21fa-fde9-481b-ef89-7b157218ce66"
   },
   "outputs": [
    {
     "name": "stdout",
     "output_type": "stream",
     "text": [
      "{'д': 899550, 'о': 2779376, 'б': 384499, 'р': 1055739, '\\n': 700000, 'к': 795405, 'г': 402608, 'а': 2366842, 'п': 757949, 'и': 1501660, 'т': 1985934, 'н': 1582468, 'е': 2028774, 'з': 355889, 'ч': 370993, 'м': 878018, ' ': 4380220, 'с': 1401746, 'х': 147781, 'у': 848660, 'я': 555131, 'ж': 249344, 'л': 915552, 'й': 289713, 'в': 1130062, 'ц': 117824, 'ы': 403604, 'э': 162631, 'ь': 538119, '-': 43618, 'ш': 187256, 'ф': 60354, 'ю': 149791, 'щ': 66697, 'ё': 76849, 'ъ': 5406}\n"
     ]
    }
   ],
   "source": [
    "letter_dict = {}\n",
    "for word in data:\n",
    "  for letter in word:\n",
    "      if letter not in letter_dict:\n",
    "        letter_dict[letter] = 1\n",
    "      else:\n",
    "        letter_dict[letter] = letter_dict[letter] + 1\n",
    "print(letter_dict)"
   ]
  },
  {
   "cell_type": "code",
   "execution_count": 5,
   "metadata": {
    "colab": {
     "base_uri": "https://localhost:8080/"
    },
    "id": "y7jnSBiGgg4J",
    "outputId": "c242f909-2ab7-4f32-8637-7dd3cc057c03"
   },
   "outputs": [
    {
     "data": {
      "text/plain": [
       "[('ъ', 5406),\n",
       " ('-', 43618),\n",
       " ('ф', 60354),\n",
       " ('щ', 66697),\n",
       " ('ё', 76849),\n",
       " ('ц', 117824),\n",
       " ('х', 147781),\n",
       " ('ю', 149791),\n",
       " ('э', 162631),\n",
       " ('ш', 187256),\n",
       " ('ж', 249344),\n",
       " ('й', 289713),\n",
       " ('з', 355889),\n",
       " ('ч', 370993),\n",
       " ('б', 384499),\n",
       " ('г', 402608),\n",
       " ('ы', 403604),\n",
       " ('ь', 538119),\n",
       " ('я', 555131),\n",
       " ('\\n', 700000),\n",
       " ('п', 757949),\n",
       " ('к', 795405),\n",
       " ('у', 848660),\n",
       " ('м', 878018),\n",
       " ('д', 899550),\n",
       " ('л', 915552),\n",
       " ('р', 1055739),\n",
       " ('в', 1130062),\n",
       " ('с', 1401746),\n",
       " ('и', 1501660),\n",
       " ('н', 1582468),\n",
       " ('т', 1985934),\n",
       " ('е', 2028774),\n",
       " ('а', 2366842),\n",
       " ('о', 2779376),\n",
       " (' ', 4380220)]"
      ]
     },
     "execution_count": 5,
     "metadata": {},
     "output_type": "execute_result"
    }
   ],
   "source": [
    "sorted(letter_dict.items(), key=lambda x: x[1])"
   ]
  },
  {
   "cell_type": "code",
   "execution_count": 6,
   "metadata": {
    "colab": {
     "base_uri": "https://localhost:8080/"
    },
    "id": "QGpR3hOQSbp7",
    "outputId": "b4556d6a-bdca-42a9-90ad-7302881d71e7"
   },
   "outputs": [
    {
     "data": {
      "text/plain": [
       "['добро',\n",
       " 'кого',\n",
       " 'капитан',\n",
       " 'нет',\n",
       " 'зачем',\n",
       " 'что происходит',\n",
       " 'что такое',\n",
       " 'рассказ',\n",
       " 'никому',\n",
       " 'ну что',\n",
       " 'кто',\n",
       " 'я укажу',\n",
       " 'исполняй',\n",
       " 'ждет',\n",
       " 'он думал']"
      ]
     },
     "execution_count": 6,
     "metadata": {},
     "output_type": "execute_result"
    }
   ],
   "source": [
    "# YOUR CODE HERE\n",
    "data_prep = [word.replace('\\n', '').replace('\\t', '') for word in data]\n",
    "data_prep[:15]"
   ]
  },
  {
   "cell_type": "markdown",
   "metadata": {
    "id": "e3xxsp0gSbp9"
   },
   "source": [
    "## Задание 2 (0.5 балла)\n",
    "Для обучения модели требуется сначала подготовить текст в подходящий для нейросети вид. Важно также отметить, что нужно добавить два токена start и end, которые отвечают за начало и конец текста. Используйте [ и ] для этой задачи. Также нам нужен токен pad, чтобы заполнять им текст до требуемой длинны для формирования батча.\n",
    "\n",
    "Реализуйте метод preprocess класса Preprocessor. Он должен принимать на вход текст и длинну текста, которую мы ожидаем получить на выходе. Текст должен быть переведен в нижний регистр, в конец текста добавляется требуемое число pad токенов, далее текст векторизуется (каждому символу ставится свое число). Вернуть требуется два вектора. Полученный результат без последнего токена (на нем будем обучаться) и полученный результат без первого токена (целевые метки при обучении)."
   ]
  },
  {
   "cell_type": "code",
   "execution_count": 23,
   "metadata": {
    "id": "B7Ai1oJ-Sbp_"
   },
   "outputs": [],
   "source": [
    "class Preprocessor:\n",
    "    def __init__(self):\n",
    "        self.alphabet = '_добсркгаупитнезчм фяжлйвцыэь-шхющёъ][ '\n",
    "        self.token2ind = {}\n",
    "        self.ind2token = {}\n",
    "        for i in range(len(self.alphabet)):\n",
    "            self.token2ind[self.alphabet[i]] = i\n",
    "            self.ind2token[i] = self.alphabet[i]\n",
    "        \n",
    "    \n",
    "    def preprocess(self, text, window_size):\n",
    "        # YOUR CODE HERE\n",
    "        text = text.lower()\n",
    "        if len(text) < window_size:\n",
    "          text += (window_size - len(text)) * ' '\n",
    "        vec = [self.token2ind[i] for i in text]\n",
    "        return vec[:-1], vec[1:]\n",
    "        #################"
   ]
  },
  {
   "cell_type": "markdown",
   "metadata": {
    "id": "9U3RwERrSbqB"
   },
   "source": [
    "## Задание 3 (0.5 балла)\n",
    "Так как мы решили, что текст будет начинаться токеном [ и заканчиваться токеном ], данные нужно поправить. Реализуйте эту идею, добавьте данные токены в ваши тексты."
   ]
  },
  {
   "cell_type": "code",
   "execution_count": 24,
   "metadata": {
    "id": "JYJAurX4SbqF"
   },
   "outputs": [],
   "source": [
    "# YOUR CODE HERE\n",
    "data_prep = ['[' + txt + ']' for txt in data_prep]\n",
    "################"
   ]
  },
  {
   "cell_type": "code",
   "execution_count": 25,
   "metadata": {
    "colab": {
     "base_uri": "https://localhost:8080/"
    },
    "id": "XS7XYdUS1G7b",
    "outputId": "9ce5fea0-d159-4755-a304-054ea9287813"
   },
   "outputs": [
    {
     "data": {
      "text/plain": [
       "['[[добро]]',\n",
       " '[[кого]]',\n",
       " '[[капитан]]',\n",
       " '[[нет]]',\n",
       " '[[зачем]]',\n",
       " '[[что происходит]]',\n",
       " '[[что такое]]',\n",
       " '[[рассказ]]',\n",
       " '[[никому]]',\n",
       " '[[ну что]]',\n",
       " '[[кто]]',\n",
       " '[[я укажу]]',\n",
       " '[[исполняй]]',\n",
       " '[[ждет]]',\n",
       " '[[он думал]]']"
      ]
     },
     "execution_count": 25,
     "metadata": {},
     "output_type": "execute_result"
    }
   ],
   "source": [
    "data_prep[:15]"
   ]
  },
  {
   "cell_type": "markdown",
   "metadata": {
    "id": "Y4jmDQ5QSbqH"
   },
   "source": [
    "## Задание 4 (0.5 балла)\n",
    "Так как мы не располагаем большими мощностями, то давайте ограничим максимальную длинну текста. Вы можете менять этот порог и тем самым уменьшать кол-во текстов в вашей выборке и увеличивая тем самым скорость обучения. Начнем же мы с 128. \n",
    "Выберите порог и оставьте только те тексты, длина которых не превосходит данный порог.\n",
    "\n",
    "Далее разбейте тексты на train и test, перемешайте тексты при разбиении, размер тестовой выборки должен быть 15% от общего числа текстов. "
   ]
  },
  {
   "cell_type": "code",
   "execution_count": 10,
   "metadata": {
    "id": "9g1NxLDLSbqI"
   },
   "outputs": [],
   "source": [
    "THRESHOLD = 128\n",
    "\n",
    "# YOUR CODE HERE\n",
    "data_threshold = []\n",
    "for txt in data_prep:\n",
    "  if len(txt) <= THRESHOLD:\n",
    "    data_threshold.append(txt)\n",
    "\n",
    "data_train, data_test = train_test_split(data_threshold, test_size=0.15, random_state=123)\n",
    "################"
   ]
  },
  {
   "cell_type": "markdown",
   "metadata": {
    "id": "TOZf-_5DSbqK"
   },
   "source": [
    "## Задание 5 (2 балла)\n",
    "Напишем датасет. На вход датасету передается набор текстов, объект класса Preprocessor и размер окна, который вы выбрали в прошлом задании.\n",
    "Реализуйте методы __len__ и __getitem__."
   ]
  },
  {
   "cell_type": "code",
   "execution_count": 11,
   "metadata": {
    "id": "0Rn5_ow8SbqL"
   },
   "outputs": [],
   "source": [
    "class TextDataset(torch.utils.data.Dataset):\n",
    "    \n",
    "    def __init__(self, x, preproc, win_size = THRESHOLD):\n",
    "        # YOUR CODE HERE\n",
    "        self.x = [preproc.preprocess(txt, win_size) for txt in x]\n",
    "        ################\n",
    "        \n",
    "    def __len__(self):\n",
    "        # YOUR CODE HERE\n",
    "        return len(self.texts)\n",
    "        ################\n",
    "    \n",
    "    def __getitem__(self, idx):\n",
    "        # YOUR CODE HERE\n",
    "        return self.x[idx]\n",
    "        ################"
   ]
  },
  {
   "cell_type": "code",
   "execution_count": 12,
   "metadata": {
    "id": "_TDPGum_SbqN"
   },
   "outputs": [],
   "source": [
    "preproc = Preprocessor()\n",
    "train_dataset = TextDataset(data_train, preproc)\n",
    "test_dataset = TextDataset(data_test, preproc)"
   ]
  },
  {
   "cell_type": "code",
   "execution_count": 13,
   "metadata": {
    "colab": {
     "base_uri": "https://localhost:8080/"
    },
    "id": "cVgs2MYN--AZ",
    "outputId": "47476def-758c-402e-eb30-40d8f9161640"
   },
   "outputs": [
    {
     "data": {
      "text/plain": [
       "([37,\n",
       "  11,\n",
       "  38,\n",
       "  24,\n",
       "  8,\n",
       "  17,\n",
       "  38,\n",
       "  9,\n",
       "  21,\n",
       "  14,\n",
       "  38,\n",
       "  12,\n",
       "  8,\n",
       "  17,\n",
       "  38,\n",
       "  3,\n",
       "  9,\n",
       "  1,\n",
       "  14,\n",
       "  12,\n",
       "  38,\n",
       "  10,\n",
       "  2,\n",
       "  10,\n",
       "  5,\n",
       "  2,\n",
       "  33,\n",
       "  14,\n",
       "  38,\n",
       "  24,\n",
       "  13,\n",
       "  14,\n",
       "  1,\n",
       "  5,\n",
       "  20,\n",
       "  12,\n",
       "  28,\n",
       "  38,\n",
       "  10,\n",
       "  2,\n",
       "  12,\n",
       "  2,\n",
       "  17,\n",
       "  9,\n",
       "  38,\n",
       "  16,\n",
       "  12,\n",
       "  2,\n",
       "  38,\n",
       "  24,\n",
       "  26,\n",
       "  38,\n",
       "  10,\n",
       "  2,\n",
       "  23,\n",
       "  17,\n",
       "  34,\n",
       "  12,\n",
       "  14,\n",
       "  38,\n",
       "  16,\n",
       "  12,\n",
       "  2,\n",
       "  38,\n",
       "  6,\n",
       "  8,\n",
       "  6,\n",
       "  11,\n",
       "  14,\n",
       "  29,\n",
       "  12,\n",
       "  2,\n",
       "  38,\n",
       "  2,\n",
       "  30,\n",
       "  11,\n",
       "  3,\n",
       "  6,\n",
       "  11,\n",
       "  38,\n",
       "  3,\n",
       "  2,\n",
       "  22,\n",
       "  14,\n",
       "  14,\n",
       "  38,\n",
       "  24,\n",
       "  8,\n",
       "  21,\n",
       "  13,\n",
       "  26,\n",
       "  38,\n",
       "  6,\n",
       "  8,\n",
       "  6,\n",
       "  11,\n",
       "  14,\n",
       "  29,\n",
       "  12,\n",
       "  2,\n",
       "  36,\n",
       "  0,\n",
       "  0,\n",
       "  0,\n",
       "  0,\n",
       "  0,\n",
       "  0,\n",
       "  0,\n",
       "  0,\n",
       "  0,\n",
       "  0,\n",
       "  0,\n",
       "  0,\n",
       "  0,\n",
       "  0,\n",
       "  0,\n",
       "  0,\n",
       "  0,\n",
       "  0,\n",
       "  0,\n",
       "  0,\n",
       "  0,\n",
       "  0,\n",
       "  0,\n",
       "  0,\n",
       "  0,\n",
       "  0],\n",
       " [11,\n",
       "  38,\n",
       "  24,\n",
       "  8,\n",
       "  17,\n",
       "  38,\n",
       "  9,\n",
       "  21,\n",
       "  14,\n",
       "  38,\n",
       "  12,\n",
       "  8,\n",
       "  17,\n",
       "  38,\n",
       "  3,\n",
       "  9,\n",
       "  1,\n",
       "  14,\n",
       "  12,\n",
       "  38,\n",
       "  10,\n",
       "  2,\n",
       "  10,\n",
       "  5,\n",
       "  2,\n",
       "  33,\n",
       "  14,\n",
       "  38,\n",
       "  24,\n",
       "  13,\n",
       "  14,\n",
       "  1,\n",
       "  5,\n",
       "  20,\n",
       "  12,\n",
       "  28,\n",
       "  38,\n",
       "  10,\n",
       "  2,\n",
       "  12,\n",
       "  2,\n",
       "  17,\n",
       "  9,\n",
       "  38,\n",
       "  16,\n",
       "  12,\n",
       "  2,\n",
       "  38,\n",
       "  24,\n",
       "  26,\n",
       "  38,\n",
       "  10,\n",
       "  2,\n",
       "  23,\n",
       "  17,\n",
       "  34,\n",
       "  12,\n",
       "  14,\n",
       "  38,\n",
       "  16,\n",
       "  12,\n",
       "  2,\n",
       "  38,\n",
       "  6,\n",
       "  8,\n",
       "  6,\n",
       "  11,\n",
       "  14,\n",
       "  29,\n",
       "  12,\n",
       "  2,\n",
       "  38,\n",
       "  2,\n",
       "  30,\n",
       "  11,\n",
       "  3,\n",
       "  6,\n",
       "  11,\n",
       "  38,\n",
       "  3,\n",
       "  2,\n",
       "  22,\n",
       "  14,\n",
       "  14,\n",
       "  38,\n",
       "  24,\n",
       "  8,\n",
       "  21,\n",
       "  13,\n",
       "  26,\n",
       "  38,\n",
       "  6,\n",
       "  8,\n",
       "  6,\n",
       "  11,\n",
       "  14,\n",
       "  29,\n",
       "  12,\n",
       "  2,\n",
       "  36,\n",
       "  0,\n",
       "  0,\n",
       "  0,\n",
       "  0,\n",
       "  0,\n",
       "  0,\n",
       "  0,\n",
       "  0,\n",
       "  0,\n",
       "  0,\n",
       "  0,\n",
       "  0,\n",
       "  0,\n",
       "  0,\n",
       "  0,\n",
       "  0,\n",
       "  0,\n",
       "  0,\n",
       "  0,\n",
       "  0,\n",
       "  0,\n",
       "  0,\n",
       "  0,\n",
       "  0,\n",
       "  0,\n",
       "  0,\n",
       "  0])"
      ]
     },
     "execution_count": 13,
     "metadata": {},
     "output_type": "execute_result"
    }
   ],
   "source": [
    "train_dataset[0]"
   ]
  },
  {
   "cell_type": "markdown",
   "metadata": {
    "id": "-_gFthkHSbqO"
   },
   "source": [
    "## Задание 6 (2 балла)\n",
    "Напишем модель. Класс для реализации positional encoding реализован за вас, он нужен, чтобы модель могла после получения эмбедингов понимать, на каком месте какой токен находится.\n",
    "\n",
    "Заполните пропуски в классе модели. Гипперпараметры модели вам предлагается подобрать самостоятельно. Рекомендуется использовать не более 6 слоев в трансформере. В декореде испоьлзуйте две линейных слоя с функцией активации ReLU между ними.\n",
    "\n",
    "## Задание 6_1 (0 баллов, но надо ответить!)\n",
    "При обучении языковой модели на основе трансформеров мы используем маскирование символов (как мы это делаем - уже реализовано). Напишите, почему мы это делаем? Почему это так важно?"
   ]
  },
  {
   "cell_type": "code",
   "execution_count": 14,
   "metadata": {
    "id": "pmxC-VReSbqQ"
   },
   "outputs": [],
   "source": [
    "class PositionalEncoding(nn.Module):\n",
    "\n",
    "    def __init__(self, d_model, dropout=0.1, max_len=5000):\n",
    "        super(PositionalEncoding, self).__init__()\n",
    "        self.dropout = nn.Dropout(p=dropout)\n",
    "\n",
    "        pe = torch.zeros(max_len, d_model)\n",
    "        position = torch.arange(0, max_len, dtype=torch.float).unsqueeze(1)\n",
    "        div_term = torch.exp(torch.arange(0, d_model, 2).float() * (-math.log(10000.0) / d_model))\n",
    "        pe[:, 0::2] = torch.sin(position * div_term)\n",
    "        pe[:, 1::2] = torch.cos(position * div_term)\n",
    "        pe = pe.unsqueeze(0).transpose(0, 1)\n",
    "        self.register_buffer('pe', pe)\n",
    "\n",
    "    def forward(self, x):\n",
    "        x = x + self.pe[:x.size(0), :]\n",
    "        return self.dropout(x)"
   ]
  },
  {
   "cell_type": "markdown",
   "metadata": {
    "id": "XkeLr9QxAK34"
   },
   "source": [
    " Маскирование символов нужно, потому что слоям self-attention в энкодере мы даём только ранние символы последовательности, а символы, встретящиеся впереди хотим маскировать."
   ]
  },
  {
   "cell_type": "code",
   "execution_count": 15,
   "metadata": {
    "id": "KhTBcYS5SbqR"
   },
   "outputs": [],
   "source": [
    "class LanguageModel(nn.Module):\n",
    "    def __init__(self, ntoken: int, d_model: int, nhead: int, d_hid: int,\n",
    "                 nlayers: int, dropout: float = 0.5):\n",
    "        super(LanguageModel, self).__init__()\n",
    "        self.emb = nn.Embedding(ntoken, d_model)\n",
    "        self.pe = PositionalEncoding(d_model)\n",
    "        self.transformer_encoder_layer = TransformerEncoderLayer(d_model, nhead, d_hid, dropout)\n",
    "        self.transformer_encoder = TransformerEncoder(self.transformer_encoder_layer, nlayers)\n",
    "        self.decoder = nn.Linear(d_model, ntoken)\n",
    "    \n",
    "    def forward(self, x, src_mask):\n",
    "        x = self.emb(x) * math.sqrt(self.d_model) # emb\n",
    "        x = self.pe(x) # then pe\n",
    "        x = x.transpose(1, 0)\n",
    "        x = self.transformer_encoder(x, src_mask) # transformer encoder with mask\n",
    "        x = self.decoder(x) # decoder\n",
    "        return x.transpose(1, 0)\n",
    "    \n",
    "    def generate_square_subsequent_mask(self, sz):\n",
    "        # А вот и то самое маскирование\n",
    "        mask = (torch.triu(torch.ones(sz, sz)) == 1).transpose(0, 1)\n",
    "        mask = mask.float().masked_fill(mask == 0, float('-inf')).masked_fill(mask == 1, float(0.0))\n",
    "        return mask"
   ]
  },
  {
   "cell_type": "code",
   "execution_count": 17,
   "metadata": {
    "id": "DEI0OSB7fBnY"
   },
   "outputs": [],
   "source": [
    "device = torch.device(\"cuda\" if torch.cuda.is_available() else \"cpu\")"
   ]
  },
  {
   "cell_type": "code",
   "execution_count": 19,
   "metadata": {
    "id": "aKuV0PsVe2eq"
   },
   "outputs": [],
   "source": [
    "ntoken = len('_добсркгаупитнезчмф яжлйвцыэь-шхющёъ][ ') # the size of vocabulary\n",
    "d_model = 200 # embedding dimension\n",
    "d_hid = 200 # the dimension of the feedforward network model in nn.TransformerEncoder\n",
    "nlayers = 2 # the number of nn.TransformerEncoderLayer in nn.TransformerEncoder\n",
    "nhead = 2 # the number of heads in the multiheadattention models\n",
    "dropout = 0.2 # the dropout value"
   ]
  },
  {
   "cell_type": "code",
   "execution_count": 20,
   "metadata": {
    "id": "0C5Kp7wbSbqS"
   },
   "outputs": [],
   "source": [
    "model = LanguageModel(ntoken, d_model, nhead, d_hid, nlayers, dropout).to(device)"
   ]
  },
  {
   "cell_type": "markdown",
   "metadata": {
    "id": "H1MlPcq_SbqW"
   },
   "source": [
    "## Задание 7 (2,5 балла)\n",
    "Финишная прямая. Давайте реализуем класс для обучения модели и ее валидации. Следуйте указаниям в коде и заполните недостающие фрагменты в коде."
   ]
  },
  {
   "cell_type": "code",
   "execution_count": 22,
   "metadata": {
    "id": "Ya4oSdP8SbqW"
   },
   "outputs": [],
   "source": [
    "class Trainer:\n",
    "    \n",
    "    def __init__(self, model, train_dataset, test_dataset):\n",
    "        \n",
    "        self.model = model\n",
    "        \n",
    "        self.train_batch_size = 64\n",
    "        self.test_batch_size = 64\n",
    "        \n",
    "        self.train_dataloader = DataLoader(train_dataset, \n",
    "                                           batch_size=self.train_batch_size,\n",
    "                                           shuffle = True)\n",
    "        self.test_dataloader = DataLoader(test_dataset, \n",
    "                                           batch_size=self.train_batch_size)\n",
    "        self.train_dataloader_size = len(self.train_dataloader)\n",
    "        self.test_dataloader_size = len(self.test_dataloader)\n",
    "        \n",
    "        self.device = 'cuda:0'\n",
    "        self.criterion = nn.CrossEntropyLoss(ignore_index = 0) # используйте CrossEntrophyLoss, передайте в качетсве параметра \n",
    "                             # ignore index индекс символа _, чтобы модель не штрафовалась за то\n",
    "                             # что идет после закрывающего токена\n",
    "        \n",
    "        self.optimizer = torch.optim.Adam(model.parameters(), 1e-3)\n",
    "        \n",
    "        self.steps_to_print = 1000\n",
    "        \n",
    "    def train_one_epoch(self, epoch_number):\n",
    "        step = 0\n",
    "        counted_loss = 0\n",
    "        current_time = time.time()\n",
    "        it = 0\n",
    "        \n",
    "        for batch in self.train_dataloader:\n",
    "            x, y = batch\n",
    "            # YOUR CODE HERE\n",
    "            # реализуйте шаги обучения модели\n",
    "            # сохраняйте значение ошибки в переменную counted_loss\n",
    "            \n",
    "            x, y = batch\n",
    "            x, y = x.to(self.device), y.to(self.device)\n",
    "            predict = self.model(x, model.generate_square_subsequent_mask(self.train_batch_size))\n",
    "            loss = self.criterion(predict, y)\n",
    "            counted_loss += loss\n",
    "            loss.backward()\n",
    "            self.optimizer.step()\n",
    "            self.optimizer.zero_grad()\n",
    "            print(\"Train epoch loss: {:.4f}...\".format(loss.item()))\n",
    "            \n",
    "            ################\n",
    "            \n",
    "            \n",
    "            if step%self.steps_to_print == 0:\n",
    "                result = 'Train epoch '+str(epoch_number)+' | '\n",
    "                result += 'Step '+str(step)+'/'+str(self.train_dataloader_size)+' | '\n",
    "                result += 'Counted loss '+str(counted_loss)+' | '\n",
    "                result += 'ppl '+str(math.exp(counted_loss/it))+' | '\n",
    "                result += 'time '+str(time.time() - current_time) + ' | '\n",
    "                print(result)\n",
    "                current_time = time.time()\n",
    "                counted_loss = 0\n",
    "                it = 0\n",
    "    \n",
    "    def validate_one_epoch(self, epoch_number):\n",
    "        step = 0\n",
    "        counted_loss = 0\n",
    "        current_time = time.time()\n",
    "        it = 0\n",
    "        for batch in self.test_dataloader:\n",
    "            x, y = batch\n",
    "            \n",
    "            # YOUR CODE HERE\n",
    "            \n",
    "            # реализуйте шаги для теста модели\n",
    "            # помните, что данный метод уже запускается из \n",
    "            # блока with torch.no_grad(), а потому \n",
    "            # повторно его использовать не нужно\n",
    "            x, y = x.to(self.device), y.to(self.device)\n",
    "            predict = self.model(x, model.generate_square_subsequent_mask(self.test_batch_size))\n",
    "            loss = self.criterion(predict, y)\n",
    "            counted_loss += loss\n",
    "            print(\"Val epoch loss: {:.4f}...\".format(loss.item()))\n",
    "            \n",
    "            ################\n",
    "            \n",
    "            if step%(self.steps_to_print//2) == 0:\n",
    "                result = 'Validate epoch '+str(epoch_number)+' | '\n",
    "                result += 'Step '+str(step)+'/'+str(self.test_dataloader_size)+' | '\n",
    "                result += 'Counted loss '+str(counted_loss)+' | '\n",
    "                result += 'ppl '+str(math.exp(counted_loss/it))+' | '\n",
    "                result += 'time '+str(time.time() - current_time) + ' | '\n",
    "                print(result)\n",
    "                current_time = time.time()\n",
    "                counted_loss = 0\n",
    "                it = 0\n",
    "        \n",
    "    def train(self, number_of_epochs):\n",
    "        model.to(self.device)\n",
    "        for epoch in range(1, number_of_epochs+1):\n",
    "            model.train()\n",
    "            self.train_one_epoch(epoch)\n",
    "            with torch.no_grad():\n",
    "                model.eval()\n",
    "                self.validate_one_epoch(epoch)\n",
    "            print()"
   ]
  },
  {
   "cell_type": "markdown",
   "metadata": {
    "id": "4WRCywAySbqZ"
   },
   "source": [
    "Что такое ppl? Перплексия. Ее можно интерпретировать как меру \"удивленности\" модели нужному символу. Чем меньше данная величина, тем лучше, ведь это значит, что модель если и сделала неправильный выбор, то не сильно удивлена своей ошибке.\n",
    "\n",
    "Проведите несколько экспериментов, посмотрите, при каких гипперпараметрах значение перплексии минимально."
   ]
  },
  {
   "cell_type": "markdown",
   "metadata": {
    "id": "v5VcOTtHSbqa"
   },
   "source": [
    "## Задание 8 (0.5 балла)\n",
    "Запустите обучение на нескольких эпохах. Ориентируйтесь на ваши вычислительные мощности и время работы. Вы всегда можете посчитать, сколько секунд уходит на один батч."
   ]
  },
  {
   "cell_type": "code",
   "execution_count": null,
   "metadata": {
    "id": "bmd4FcEUSbqb"
   },
   "outputs": [],
   "source": [
    "# YOUR CODE HERE\n",
    "###############"
   ]
  },
  {
   "cell_type": "markdown",
   "metadata": {
    "id": "KNSnpJ4hSbqc"
   },
   "source": [
    "## Задание 9 (1 балл)\n",
    "Итак, давайте попробуем погенерировать текст нашей сеткой. Закончите функцию по генерации текста. Попробуйте сгенерировать какой-нибудь текст. Помните, что если вы хотите генерировать текст с нуля, то вы должны передать в качестве текста только токен start.\n",
    "Прекратите генерировать текст, если модель выдала токен end или длинна текста больше 150."
   ]
  },
  {
   "cell_type": "code",
   "execution_count": null,
   "metadata": {
    "id": "nYIlvBZsSbqd"
   },
   "outputs": [],
   "source": [
    "def generate_text(text):\n",
    "    x = []\n",
    "    \n",
    "    for letter in text:\n",
    "        x.append(preproc.token2ind[letter])\n",
    "    x = torch.from_numpy(np.array(x))\n",
    "    \n",
    "    pred = ...\n",
    "    ind = ... \n",
    "    \n",
    "    text += ... \n",
    "    \n",
    "    if ...:\n",
    "        return text\n",
    "    else:\n",
    "        return generate_text(text)"
   ]
  },
  {
   "cell_type": "markdown",
   "metadata": {
    "id": "EJlRw3LQSbqd"
   },
   "source": [
    "## Задание 10* (Задание - бонус, 5 баллов за реализацию при условии, что сделаны прошлые задания)\n",
    "Давайте вспомним, что такое transfer learning. Мы хотим использовать уже предобученные эмбединги для нашей сети, чтобы наша сеть обучалась быстрее. Давайте попробуем обучить новую модель на уровне слов, а не символов, но для упрощения задачи используем предобученный слой из библиотеки Natasha, а вернее, ее блок Navec."
   ]
  },
  {
   "cell_type": "markdown",
   "metadata": {
    "id": "R6a1FZhKSbqd"
   },
   "source": [
    "[Изучите](https://github.com/natasha/navec) то, как вставить слой в вашу нейронную сеть."
   ]
  },
  {
   "cell_type": "markdown",
   "metadata": {
    "id": "Va5pLC4gSbqe"
   },
   "source": [
    "Теперь мы хотим, чтобы на вход модели подавались слова, модифицируйте ваш датасет. Возвращайте теперь номер слова в словаре navec."
   ]
  },
  {
   "cell_type": "code",
   "execution_count": null,
   "metadata": {
    "id": "uwaLw2IhSbqe"
   },
   "outputs": [],
   "source": [
    "class TextDataset_Navec(torch.utils.data.Dataset):\n",
    "    \n",
    "    def __init__(self, x, win_size = 128):\n",
    "        # YOUR CODE HERE\n",
    "        self.navec = ...\n",
    "        ################\n",
    "    \n",
    "    def __len__(self):\n",
    "        # YOUR CODE HERE\n",
    "        ################\n",
    "    \n",
    "    def __getitem__(self, idx):\n",
    "        # YOUR CODE HERE\n",
    "        ################"
   ]
  },
  {
   "cell_type": "markdown",
   "metadata": {
    "id": "uqYYlSw9Sbqf"
   },
   "source": [
    "Немного модифицируем модель. Теперь нам не нужны слои с трансформером, так как весь механизм внимания уже заложен в ембедингах. Давайте попробуем просто пройтись линейной головой над эмбедингами. Выберите параметры самостоятельно."
   ]
  },
  {
   "cell_type": "code",
   "execution_count": null,
   "metadata": {
    "id": "PcY3JoemSbqg"
   },
   "outputs": [],
   "source": [
    "class LanguageModel(nn.Module):\n",
    "    def __init__(self):\n",
    "        super(LanguageModel, self).__init__()\n",
    "        self.emb_navec = ...\n",
    "        self.head = ...\n",
    "    \n",
    "    def forward(self, x):\n",
    "        x = ... # emb\n",
    "        x = ... # head\n",
    "        return x"
   ]
  },
  {
   "cell_type": "markdown",
   "metadata": {
    "id": "0uPKGY1ZSbqh"
   },
   "source": [
    "Теперь дело за малым! Надо немного модифицировать класс обучения, так как мы не используем маскирование, после чего можно приступить к тесту!"
   ]
  },
  {
   "cell_type": "code",
   "execution_count": null,
   "metadata": {
    "id": "jqdtBjhzSbqh"
   },
   "outputs": [],
   "source": [
    "class Trainer:\n",
    "    \n",
    "    def __init__(self, model, train_dataset, test_dataset):\n",
    "        \n",
    "        self.model = model\n",
    "        \n",
    "        self.train_batch_size = 64\n",
    "        self.test_batch_size = 64\n",
    "        \n",
    "        self.train_dataloader = ...\n",
    "        self.test_dataloader = ...\n",
    "        self.train_dataloader_size = ...\n",
    "        self.test_dataloader_size = ...\n",
    "        \n",
    "        self.device = 'cuda:0'\n",
    "        self.criterion = ... \n",
    "        \n",
    "        self.optimizer = ...\n",
    "        \n",
    "        self.steps_to_print = 1000\n",
    "        \n",
    "    def train_one_epoch(self, epoch_number):\n",
    "        step = 0\n",
    "        counted_loss = 0\n",
    "        current_time = time.time()\n",
    "        it = 0\n",
    "        \n",
    "        for batch in self.train_dataloader:\n",
    "            x, y = batch\n",
    "            # YOUR CODE HERE\n",
    "            \n",
    "            # реализуйте шаги обучения модели\n",
    "            # сохраняйте значение ошибки в переменную counted_loss\n",
    "            \n",
    "            ################\n",
    "            \n",
    "            \n",
    "            if step%self.steps_to_print == 0:\n",
    "                result = 'Train epoch '+str(epoch_number)+' | '\n",
    "                result += 'Step '+str(step)+'/'+str(self.train_dataloader_size)+' | '\n",
    "                result += 'Counted loss '+str(counted_loss)+' | '\n",
    "                result += 'ppl '+str(math.exp(counted_loss/it))+' | '\n",
    "                result += 'time '+str(time.time() - current_time) + ' | '\n",
    "                print(result)\n",
    "                current_time = time.time()\n",
    "                counted_loss = 0\n",
    "                it = 0\n",
    "    \n",
    "    def validate_one_epoch(self, epoch_number):\n",
    "        step = 0\n",
    "        counted_loss = 0\n",
    "        current_time = time.time()\n",
    "        it = 0\n",
    "        for batch in self.test_dataloader:\n",
    "            x, y = batch\n",
    "            \n",
    "            # YOUR CODE HERE\n",
    "            \n",
    "            # реализуйте шаги для теста модели\n",
    "            # помните, что данный метод уже запускается из \n",
    "            # блока with torch.no_grad(), а потому \n",
    "            # повторно его использовать не нужно\n",
    "            \n",
    "            ################\n",
    "            \n",
    "            if step%(self.steps_to_print//2) == 0:\n",
    "                result = 'Validate epoch '+str(epoch_number)+' | '\n",
    "                result += 'Step '+str(step)+'/'+str(self.test_dataloader_size)+' | '\n",
    "                result += 'Counted loss '+str(counted_loss)+' | '\n",
    "                result += 'ppl '+str(math.exp(counted_loss/it))+' | '\n",
    "                result += 'time '+str(time.time() - current_time) + ' | '\n",
    "                print(result)\n",
    "                current_time = time.time()\n",
    "                counted_loss = 0\n",
    "                it = 0\n",
    "        \n",
    "    def train(self, number_of_epochs):\n",
    "        model.to(self.device)\n",
    "        for epoch in range(1, number_of_epochs+1):\n",
    "            model.train()\n",
    "            self.train_one_epoch(epoch)\n",
    "            with torch.no_grad():\n",
    "                model.eval()\n",
    "                self.validate_one_epoch(epoch)\n",
    "            print()"
   ]
  },
  {
   "cell_type": "markdown",
   "metadata": {
    "id": "lVCBciiwSbqj"
   },
   "source": [
    "Запустите обучение. "
   ]
  },
  {
   "cell_type": "code",
   "execution_count": null,
   "metadata": {
    "id": "6x2o_1OsSbqk"
   },
   "outputs": [],
   "source": [
    "# YOUR CODE HERE\n",
    "###############"
   ]
  }
 ],
 "metadata": {
  "accelerator": "GPU",
  "colab": {
   "collapsed_sections": [],
   "name": "hw3_transformer.ipynb",
   "provenance": []
  },
  "kernelspec": {
   "display_name": "Python 3 (ipykernel)",
   "language": "python",
   "name": "python3"
  },
  "language_info": {
   "codemirror_mode": {
    "name": "ipython",
    "version": 3
   },
   "file_extension": ".py",
   "mimetype": "text/x-python",
   "name": "python",
   "nbconvert_exporter": "python",
   "pygments_lexer": "ipython3",
   "version": "3.8.10"
  }
 },
 "nbformat": 4,
 "nbformat_minor": 1
}
